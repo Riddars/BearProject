{
  "nbformat": 4,
  "nbformat_minor": 0,
  "metadata": {
    "colab": {
      "provenance": [],
      "authorship_tag": "ABX9TyPHjc8EKj2Nli2qF45akOr2",
      "include_colab_link": true
    },
    "kernelspec": {
      "name": "python3",
      "display_name": "Python 3"
    },
    "language_info": {
      "name": "python"
    }
  },
  "cells": [
    {
      "cell_type": "markdown",
      "metadata": {
        "id": "view-in-github",
        "colab_type": "text"
      },
      "source": [
        "<a href=\"https://colab.research.google.com/github/Riddars/BeerProject/blob/main/BeerProject_v_1_0.ipynb\" target=\"_parent\"><img src=\"https://colab.research.google.com/assets/colab-badge.svg\" alt=\"Open In Colab\"/></a>"
      ]
    },
    {
      "cell_type": "code",
      "execution_count": 27,
      "metadata": {
        "id": "vN810X6H1x3M",
        "colab": {
          "base_uri": "https://localhost:8080/"
        },
        "outputId": "3c1709d0-b4b0-4163-da40-f0a7e20b134c"
      },
      "outputs": [
        {
          "output_type": "stream",
          "name": "stdout",
          "text": [
            "Requirement already satisfied: fancyimpute in /usr/local/lib/python3.10/dist-packages (0.7.0)\n",
            "Requirement already satisfied: knnimpute>=0.1.0 in /usr/local/lib/python3.10/dist-packages (from fancyimpute) (0.1.0)\n",
            "Requirement already satisfied: scikit-learn>=0.24.2 in /usr/local/lib/python3.10/dist-packages (from fancyimpute) (1.2.2)\n",
            "Requirement already satisfied: cvxpy in /usr/local/lib/python3.10/dist-packages (from fancyimpute) (1.3.2)\n",
            "Requirement already satisfied: cvxopt in /usr/local/lib/python3.10/dist-packages (from fancyimpute) (1.3.2)\n",
            "Requirement already satisfied: pytest in /usr/local/lib/python3.10/dist-packages (from fancyimpute) (7.4.3)\n",
            "Requirement already satisfied: nose in /usr/local/lib/python3.10/dist-packages (from fancyimpute) (1.3.7)\n",
            "Requirement already satisfied: six in /usr/local/lib/python3.10/dist-packages (from knnimpute>=0.1.0->fancyimpute) (1.16.0)\n",
            "Requirement already satisfied: numpy>=1.10 in /usr/local/lib/python3.10/dist-packages (from knnimpute>=0.1.0->fancyimpute) (1.23.5)\n",
            "Requirement already satisfied: scipy>=1.3.2 in /usr/local/lib/python3.10/dist-packages (from scikit-learn>=0.24.2->fancyimpute) (1.11.3)\n",
            "Requirement already satisfied: joblib>=1.1.1 in /usr/local/lib/python3.10/dist-packages (from scikit-learn>=0.24.2->fancyimpute) (1.3.2)\n",
            "Requirement already satisfied: threadpoolctl>=2.0.0 in /usr/local/lib/python3.10/dist-packages (from scikit-learn>=0.24.2->fancyimpute) (3.2.0)\n",
            "Requirement already satisfied: osqp>=0.4.1 in /usr/local/lib/python3.10/dist-packages (from cvxpy->fancyimpute) (0.6.2.post8)\n",
            "Requirement already satisfied: ecos>=2 in /usr/local/lib/python3.10/dist-packages (from cvxpy->fancyimpute) (2.0.12)\n",
            "Requirement already satisfied: scs>=1.1.6 in /usr/local/lib/python3.10/dist-packages (from cvxpy->fancyimpute) (3.2.4)\n",
            "Requirement already satisfied: setuptools>65.5.1 in /usr/local/lib/python3.10/dist-packages (from cvxpy->fancyimpute) (67.7.2)\n",
            "Requirement already satisfied: iniconfig in /usr/local/lib/python3.10/dist-packages (from pytest->fancyimpute) (2.0.0)\n",
            "Requirement already satisfied: packaging in /usr/local/lib/python3.10/dist-packages (from pytest->fancyimpute) (23.2)\n",
            "Requirement already satisfied: pluggy<2.0,>=0.12 in /usr/local/lib/python3.10/dist-packages (from pytest->fancyimpute) (1.3.0)\n",
            "Requirement already satisfied: exceptiongroup>=1.0.0rc8 in /usr/local/lib/python3.10/dist-packages (from pytest->fancyimpute) (1.1.3)\n",
            "Requirement already satisfied: tomli>=1.0.0 in /usr/local/lib/python3.10/dist-packages (from pytest->fancyimpute) (2.0.1)\n",
            "Requirement already satisfied: qdldl in /usr/local/lib/python3.10/dist-packages (from osqp>=0.4.1->cvxpy->fancyimpute) (0.1.7.post0)\n"
          ]
        }
      ],
      "source": [
        "!pip install fancyimpute\n",
        "import pandas as pd\n",
        "import seaborn as sns\n",
        "import numpy as np\n",
        "import matplotlib.pyplot as plt\n",
        "from sklearn.preprocessing import LabelEncoder, MinMaxScaler, StandardScaler\n",
        "from tqdm import tqdm\n",
        "\n",
        "from sklearn.metrics import r2_score, mean_squared_error\n",
        "import tensorflow as tf\n",
        "from fancyimpute import IterativeImputer"
      ]
    },
    {
      "cell_type": "code",
      "source": [
        "data_df = pd.read_csv('https://raw.githubusercontent.com/Riddars/BearProject/main/recipeData.csv', encoding='ISO-8859-1')"
      ],
      "metadata": {
        "id": "gWJLLGC0164e"
      },
      "execution_count": 28,
      "outputs": []
    },
    {
      "cell_type": "code",
      "source": [
        "data_df.head()"
      ],
      "metadata": {
        "id": "-Fhs6fYi2OUu",
        "colab": {
          "base_uri": "https://localhost:8080/",
          "height": 516
        },
        "outputId": "7bb4950f-8c07-4822-9b36-3ec31718fd8c"
      },
      "execution_count": 29,
      "outputs": [
        {
          "output_type": "execute_result",
          "data": {
            "text/plain": [
              "   BeerID                             Name  \\\n",
              "0       1                Vanilla Cream Ale   \n",
              "1       2      Southern Tier Pumking clone   \n",
              "2       3      Zombie Dust Clone - EXTRACT   \n",
              "3       4    Zombie Dust Clone - ALL GRAIN   \n",
              "4       5  Bakke Brygg Belgisk Blonde 50 l   \n",
              "\n",
              "                                                 URL  \\\n",
              "0       /homebrew/recipe/view/1633/vanilla-cream-ale   \n",
              "1  /homebrew/recipe/view/16367/southern-tier-pumk...   \n",
              "2  /homebrew/recipe/view/5920/zombie-dust-clone-e...   \n",
              "3  /homebrew/recipe/view/5916/zombie-dust-clone-a...   \n",
              "4  /homebrew/recipe/view/89534/bakke-brygg-belgis...   \n",
              "\n",
              "                                Style  StyleID  Size(L)     OG     FG   ABV  \\\n",
              "0                           Cream Ale       45    21.77  1.055  1.013  5.48   \n",
              "1  Holiday/Winter Special Spiced Beer       85    20.82  1.083  1.021  8.16   \n",
              "2                        American IPA        7    18.93  1.063  1.018  5.91   \n",
              "3                        American IPA        7    22.71  1.061  1.017  5.80   \n",
              "4                   Belgian Blond Ale       20    50.00  1.060  1.010  6.48   \n",
              "\n",
              "     IBU  ...  BoilGravity  Efficiency  MashThickness        SugarScale  \\\n",
              "0  17.65  ...        1.038        70.0            NaN  Specific Gravity   \n",
              "1  60.65  ...        1.070        70.0            NaN  Specific Gravity   \n",
              "2  59.25  ...          NaN        70.0            NaN  Specific Gravity   \n",
              "3  54.48  ...          NaN        70.0            NaN  Specific Gravity   \n",
              "4  17.84  ...        1.050        72.0            NaN  Specific Gravity   \n",
              "\n",
              "   BrewMethod  PitchRate PrimaryTemp PrimingMethod   PrimingAmount   UserId  \n",
              "0   All Grain        NaN       17.78    corn sugar          4.5 oz    116.0  \n",
              "1   All Grain        NaN         NaN           NaN             NaN    955.0  \n",
              "2     extract        NaN         NaN           NaN             NaN      NaN  \n",
              "3   All Grain        NaN         NaN           NaN             NaN      NaN  \n",
              "4   All Grain        NaN       19.00    Sukkerlake  6-7 g sukker/l  18325.0  \n",
              "\n",
              "[5 rows x 23 columns]"
            ],
            "text/html": [
              "\n",
              "  <div id=\"df-c2efeedd-2834-48dc-a084-3ff9545e5b67\" class=\"colab-df-container\">\n",
              "    <div>\n",
              "<style scoped>\n",
              "    .dataframe tbody tr th:only-of-type {\n",
              "        vertical-align: middle;\n",
              "    }\n",
              "\n",
              "    .dataframe tbody tr th {\n",
              "        vertical-align: top;\n",
              "    }\n",
              "\n",
              "    .dataframe thead th {\n",
              "        text-align: right;\n",
              "    }\n",
              "</style>\n",
              "<table border=\"1\" class=\"dataframe\">\n",
              "  <thead>\n",
              "    <tr style=\"text-align: right;\">\n",
              "      <th></th>\n",
              "      <th>BeerID</th>\n",
              "      <th>Name</th>\n",
              "      <th>URL</th>\n",
              "      <th>Style</th>\n",
              "      <th>StyleID</th>\n",
              "      <th>Size(L)</th>\n",
              "      <th>OG</th>\n",
              "      <th>FG</th>\n",
              "      <th>ABV</th>\n",
              "      <th>IBU</th>\n",
              "      <th>...</th>\n",
              "      <th>BoilGravity</th>\n",
              "      <th>Efficiency</th>\n",
              "      <th>MashThickness</th>\n",
              "      <th>SugarScale</th>\n",
              "      <th>BrewMethod</th>\n",
              "      <th>PitchRate</th>\n",
              "      <th>PrimaryTemp</th>\n",
              "      <th>PrimingMethod</th>\n",
              "      <th>PrimingAmount</th>\n",
              "      <th>UserId</th>\n",
              "    </tr>\n",
              "  </thead>\n",
              "  <tbody>\n",
              "    <tr>\n",
              "      <th>0</th>\n",
              "      <td>1</td>\n",
              "      <td>Vanilla Cream Ale</td>\n",
              "      <td>/homebrew/recipe/view/1633/vanilla-cream-ale</td>\n",
              "      <td>Cream Ale</td>\n",
              "      <td>45</td>\n",
              "      <td>21.77</td>\n",
              "      <td>1.055</td>\n",
              "      <td>1.013</td>\n",
              "      <td>5.48</td>\n",
              "      <td>17.65</td>\n",
              "      <td>...</td>\n",
              "      <td>1.038</td>\n",
              "      <td>70.0</td>\n",
              "      <td>NaN</td>\n",
              "      <td>Specific Gravity</td>\n",
              "      <td>All Grain</td>\n",
              "      <td>NaN</td>\n",
              "      <td>17.78</td>\n",
              "      <td>corn sugar</td>\n",
              "      <td>4.5 oz</td>\n",
              "      <td>116.0</td>\n",
              "    </tr>\n",
              "    <tr>\n",
              "      <th>1</th>\n",
              "      <td>2</td>\n",
              "      <td>Southern Tier Pumking clone</td>\n",
              "      <td>/homebrew/recipe/view/16367/southern-tier-pumk...</td>\n",
              "      <td>Holiday/Winter Special Spiced Beer</td>\n",
              "      <td>85</td>\n",
              "      <td>20.82</td>\n",
              "      <td>1.083</td>\n",
              "      <td>1.021</td>\n",
              "      <td>8.16</td>\n",
              "      <td>60.65</td>\n",
              "      <td>...</td>\n",
              "      <td>1.070</td>\n",
              "      <td>70.0</td>\n",
              "      <td>NaN</td>\n",
              "      <td>Specific Gravity</td>\n",
              "      <td>All Grain</td>\n",
              "      <td>NaN</td>\n",
              "      <td>NaN</td>\n",
              "      <td>NaN</td>\n",
              "      <td>NaN</td>\n",
              "      <td>955.0</td>\n",
              "    </tr>\n",
              "    <tr>\n",
              "      <th>2</th>\n",
              "      <td>3</td>\n",
              "      <td>Zombie Dust Clone - EXTRACT</td>\n",
              "      <td>/homebrew/recipe/view/5920/zombie-dust-clone-e...</td>\n",
              "      <td>American IPA</td>\n",
              "      <td>7</td>\n",
              "      <td>18.93</td>\n",
              "      <td>1.063</td>\n",
              "      <td>1.018</td>\n",
              "      <td>5.91</td>\n",
              "      <td>59.25</td>\n",
              "      <td>...</td>\n",
              "      <td>NaN</td>\n",
              "      <td>70.0</td>\n",
              "      <td>NaN</td>\n",
              "      <td>Specific Gravity</td>\n",
              "      <td>extract</td>\n",
              "      <td>NaN</td>\n",
              "      <td>NaN</td>\n",
              "      <td>NaN</td>\n",
              "      <td>NaN</td>\n",
              "      <td>NaN</td>\n",
              "    </tr>\n",
              "    <tr>\n",
              "      <th>3</th>\n",
              "      <td>4</td>\n",
              "      <td>Zombie Dust Clone - ALL GRAIN</td>\n",
              "      <td>/homebrew/recipe/view/5916/zombie-dust-clone-a...</td>\n",
              "      <td>American IPA</td>\n",
              "      <td>7</td>\n",
              "      <td>22.71</td>\n",
              "      <td>1.061</td>\n",
              "      <td>1.017</td>\n",
              "      <td>5.80</td>\n",
              "      <td>54.48</td>\n",
              "      <td>...</td>\n",
              "      <td>NaN</td>\n",
              "      <td>70.0</td>\n",
              "      <td>NaN</td>\n",
              "      <td>Specific Gravity</td>\n",
              "      <td>All Grain</td>\n",
              "      <td>NaN</td>\n",
              "      <td>NaN</td>\n",
              "      <td>NaN</td>\n",
              "      <td>NaN</td>\n",
              "      <td>NaN</td>\n",
              "    </tr>\n",
              "    <tr>\n",
              "      <th>4</th>\n",
              "      <td>5</td>\n",
              "      <td>Bakke Brygg Belgisk Blonde 50 l</td>\n",
              "      <td>/homebrew/recipe/view/89534/bakke-brygg-belgis...</td>\n",
              "      <td>Belgian Blond Ale</td>\n",
              "      <td>20</td>\n",
              "      <td>50.00</td>\n",
              "      <td>1.060</td>\n",
              "      <td>1.010</td>\n",
              "      <td>6.48</td>\n",
              "      <td>17.84</td>\n",
              "      <td>...</td>\n",
              "      <td>1.050</td>\n",
              "      <td>72.0</td>\n",
              "      <td>NaN</td>\n",
              "      <td>Specific Gravity</td>\n",
              "      <td>All Grain</td>\n",
              "      <td>NaN</td>\n",
              "      <td>19.00</td>\n",
              "      <td>Sukkerlake</td>\n",
              "      <td>6-7 g sukker/l</td>\n",
              "      <td>18325.0</td>\n",
              "    </tr>\n",
              "  </tbody>\n",
              "</table>\n",
              "<p>5 rows × 23 columns</p>\n",
              "</div>\n",
              "    <div class=\"colab-df-buttons\">\n",
              "\n",
              "  <div class=\"colab-df-container\">\n",
              "    <button class=\"colab-df-convert\" onclick=\"convertToInteractive('df-c2efeedd-2834-48dc-a084-3ff9545e5b67')\"\n",
              "            title=\"Convert this dataframe to an interactive table.\"\n",
              "            style=\"display:none;\">\n",
              "\n",
              "  <svg xmlns=\"http://www.w3.org/2000/svg\" height=\"24px\" viewBox=\"0 -960 960 960\">\n",
              "    <path d=\"M120-120v-720h720v720H120Zm60-500h600v-160H180v160Zm220 220h160v-160H400v160Zm0 220h160v-160H400v160ZM180-400h160v-160H180v160Zm440 0h160v-160H620v160ZM180-180h160v-160H180v160Zm440 0h160v-160H620v160Z\"/>\n",
              "  </svg>\n",
              "    </button>\n",
              "\n",
              "  <style>\n",
              "    .colab-df-container {\n",
              "      display:flex;\n",
              "      gap: 12px;\n",
              "    }\n",
              "\n",
              "    .colab-df-convert {\n",
              "      background-color: #E8F0FE;\n",
              "      border: none;\n",
              "      border-radius: 50%;\n",
              "      cursor: pointer;\n",
              "      display: none;\n",
              "      fill: #1967D2;\n",
              "      height: 32px;\n",
              "      padding: 0 0 0 0;\n",
              "      width: 32px;\n",
              "    }\n",
              "\n",
              "    .colab-df-convert:hover {\n",
              "      background-color: #E2EBFA;\n",
              "      box-shadow: 0px 1px 2px rgba(60, 64, 67, 0.3), 0px 1px 3px 1px rgba(60, 64, 67, 0.15);\n",
              "      fill: #174EA6;\n",
              "    }\n",
              "\n",
              "    .colab-df-buttons div {\n",
              "      margin-bottom: 4px;\n",
              "    }\n",
              "\n",
              "    [theme=dark] .colab-df-convert {\n",
              "      background-color: #3B4455;\n",
              "      fill: #D2E3FC;\n",
              "    }\n",
              "\n",
              "    [theme=dark] .colab-df-convert:hover {\n",
              "      background-color: #434B5C;\n",
              "      box-shadow: 0px 1px 3px 1px rgba(0, 0, 0, 0.15);\n",
              "      filter: drop-shadow(0px 1px 2px rgba(0, 0, 0, 0.3));\n",
              "      fill: #FFFFFF;\n",
              "    }\n",
              "  </style>\n",
              "\n",
              "    <script>\n",
              "      const buttonEl =\n",
              "        document.querySelector('#df-c2efeedd-2834-48dc-a084-3ff9545e5b67 button.colab-df-convert');\n",
              "      buttonEl.style.display =\n",
              "        google.colab.kernel.accessAllowed ? 'block' : 'none';\n",
              "\n",
              "      async function convertToInteractive(key) {\n",
              "        const element = document.querySelector('#df-c2efeedd-2834-48dc-a084-3ff9545e5b67');\n",
              "        const dataTable =\n",
              "          await google.colab.kernel.invokeFunction('convertToInteractive',\n",
              "                                                    [key], {});\n",
              "        if (!dataTable) return;\n",
              "\n",
              "        const docLinkHtml = 'Like what you see? Visit the ' +\n",
              "          '<a target=\"_blank\" href=https://colab.research.google.com/notebooks/data_table.ipynb>data table notebook</a>'\n",
              "          + ' to learn more about interactive tables.';\n",
              "        element.innerHTML = '';\n",
              "        dataTable['output_type'] = 'display_data';\n",
              "        await google.colab.output.renderOutput(dataTable, element);\n",
              "        const docLink = document.createElement('div');\n",
              "        docLink.innerHTML = docLinkHtml;\n",
              "        element.appendChild(docLink);\n",
              "      }\n",
              "    </script>\n",
              "  </div>\n",
              "\n",
              "\n",
              "<div id=\"df-c7c5655a-8792-47cf-8cb7-d3cdd0069ca6\">\n",
              "  <button class=\"colab-df-quickchart\" onclick=\"quickchart('df-c7c5655a-8792-47cf-8cb7-d3cdd0069ca6')\"\n",
              "            title=\"Suggest charts\"\n",
              "            style=\"display:none;\">\n",
              "\n",
              "<svg xmlns=\"http://www.w3.org/2000/svg\" height=\"24px\"viewBox=\"0 0 24 24\"\n",
              "     width=\"24px\">\n",
              "    <g>\n",
              "        <path d=\"M19 3H5c-1.1 0-2 .9-2 2v14c0 1.1.9 2 2 2h14c1.1 0 2-.9 2-2V5c0-1.1-.9-2-2-2zM9 17H7v-7h2v7zm4 0h-2V7h2v10zm4 0h-2v-4h2v4z\"/>\n",
              "    </g>\n",
              "</svg>\n",
              "  </button>\n",
              "\n",
              "<style>\n",
              "  .colab-df-quickchart {\n",
              "      --bg-color: #E8F0FE;\n",
              "      --fill-color: #1967D2;\n",
              "      --hover-bg-color: #E2EBFA;\n",
              "      --hover-fill-color: #174EA6;\n",
              "      --disabled-fill-color: #AAA;\n",
              "      --disabled-bg-color: #DDD;\n",
              "  }\n",
              "\n",
              "  [theme=dark] .colab-df-quickchart {\n",
              "      --bg-color: #3B4455;\n",
              "      --fill-color: #D2E3FC;\n",
              "      --hover-bg-color: #434B5C;\n",
              "      --hover-fill-color: #FFFFFF;\n",
              "      --disabled-bg-color: #3B4455;\n",
              "      --disabled-fill-color: #666;\n",
              "  }\n",
              "\n",
              "  .colab-df-quickchart {\n",
              "    background-color: var(--bg-color);\n",
              "    border: none;\n",
              "    border-radius: 50%;\n",
              "    cursor: pointer;\n",
              "    display: none;\n",
              "    fill: var(--fill-color);\n",
              "    height: 32px;\n",
              "    padding: 0;\n",
              "    width: 32px;\n",
              "  }\n",
              "\n",
              "  .colab-df-quickchart:hover {\n",
              "    background-color: var(--hover-bg-color);\n",
              "    box-shadow: 0 1px 2px rgba(60, 64, 67, 0.3), 0 1px 3px 1px rgba(60, 64, 67, 0.15);\n",
              "    fill: var(--button-hover-fill-color);\n",
              "  }\n",
              "\n",
              "  .colab-df-quickchart-complete:disabled,\n",
              "  .colab-df-quickchart-complete:disabled:hover {\n",
              "    background-color: var(--disabled-bg-color);\n",
              "    fill: var(--disabled-fill-color);\n",
              "    box-shadow: none;\n",
              "  }\n",
              "\n",
              "  .colab-df-spinner {\n",
              "    border: 2px solid var(--fill-color);\n",
              "    border-color: transparent;\n",
              "    border-bottom-color: var(--fill-color);\n",
              "    animation:\n",
              "      spin 1s steps(1) infinite;\n",
              "  }\n",
              "\n",
              "  @keyframes spin {\n",
              "    0% {\n",
              "      border-color: transparent;\n",
              "      border-bottom-color: var(--fill-color);\n",
              "      border-left-color: var(--fill-color);\n",
              "    }\n",
              "    20% {\n",
              "      border-color: transparent;\n",
              "      border-left-color: var(--fill-color);\n",
              "      border-top-color: var(--fill-color);\n",
              "    }\n",
              "    30% {\n",
              "      border-color: transparent;\n",
              "      border-left-color: var(--fill-color);\n",
              "      border-top-color: var(--fill-color);\n",
              "      border-right-color: var(--fill-color);\n",
              "    }\n",
              "    40% {\n",
              "      border-color: transparent;\n",
              "      border-right-color: var(--fill-color);\n",
              "      border-top-color: var(--fill-color);\n",
              "    }\n",
              "    60% {\n",
              "      border-color: transparent;\n",
              "      border-right-color: var(--fill-color);\n",
              "    }\n",
              "    80% {\n",
              "      border-color: transparent;\n",
              "      border-right-color: var(--fill-color);\n",
              "      border-bottom-color: var(--fill-color);\n",
              "    }\n",
              "    90% {\n",
              "      border-color: transparent;\n",
              "      border-bottom-color: var(--fill-color);\n",
              "    }\n",
              "  }\n",
              "</style>\n",
              "\n",
              "  <script>\n",
              "    async function quickchart(key) {\n",
              "      const quickchartButtonEl =\n",
              "        document.querySelector('#' + key + ' button');\n",
              "      quickchartButtonEl.disabled = true;  // To prevent multiple clicks.\n",
              "      quickchartButtonEl.classList.add('colab-df-spinner');\n",
              "      try {\n",
              "        const charts = await google.colab.kernel.invokeFunction(\n",
              "            'suggestCharts', [key], {});\n",
              "      } catch (error) {\n",
              "        console.error('Error during call to suggestCharts:', error);\n",
              "      }\n",
              "      quickchartButtonEl.classList.remove('colab-df-spinner');\n",
              "      quickchartButtonEl.classList.add('colab-df-quickchart-complete');\n",
              "    }\n",
              "    (() => {\n",
              "      let quickchartButtonEl =\n",
              "        document.querySelector('#df-c7c5655a-8792-47cf-8cb7-d3cdd0069ca6 button');\n",
              "      quickchartButtonEl.style.display =\n",
              "        google.colab.kernel.accessAllowed ? 'block' : 'none';\n",
              "    })();\n",
              "  </script>\n",
              "</div>\n",
              "    </div>\n",
              "  </div>\n"
            ]
          },
          "metadata": {},
          "execution_count": 29
        }
      ]
    },
    {
      "cell_type": "markdown",
      "source": [
        "# РАБОТА С ДАТАСЕТОМ\n",
        "**анализируем выбросы**"
      ],
      "metadata": {
        "id": "XN_nY925vJ3s"
      }
    },
    {
      "cell_type": "code",
      "source": [
        "# Замените 'IBU' на имя вашего столбца\n",
        "ibu_values = data_df['MashThickness']\n",
        "\n",
        "# Создайте график с точками\n",
        "plt.figure(figsize=(10, 6))\n",
        "plt.scatter(range(len(ibu_values)), ibu_values, alpha=0.5)\n",
        "plt.xlabel('Индекс строки')\n",
        "plt.ylabel('Значения IBU')\n",
        "plt.title('График с точками для столбца IBU')\n",
        "plt.show()"
      ],
      "metadata": {
        "id": "sbl-757VYH8G",
        "colab": {
          "base_uri": "https://localhost:8080/",
          "height": 564
        },
        "outputId": "3cbeb843-841c-4c28-f949-b83dfed6c98e"
      },
      "execution_count": 30,
      "outputs": [
        {
          "output_type": "display_data",
          "data": {
            "text/plain": [
              "<Figure size 1000x600 with 1 Axes>"
            ],
            "image/png": "[encoded data removed]"
          },
          "metadata": {}
        }
      ]
    },
    {
      "cell_type": "code",
      "source": [
        "mean_ibu = data_df['IBU'].mean()\n",
        "variance_ibu = data_df['IBU'].var()\n",
        "\n",
        "# Выведите результаты\n",
        "print(f\"Среднее значение IBU: {mean_ibu}\")\n",
        "print(f\"Дисперсия IBU: {variance_ibu}\")"
      ],
      "metadata": {
        "id": "3P8wdtOPymqf",
        "colab": {
          "base_uri": "https://localhost:8080/"
        },
        "outputId": "26c77833-aa48-41f1-b84b-206b503d5a89"
      },
      "execution_count": 31,
      "outputs": [
        {
          "output_type": "stream",
          "name": "stdout",
          "text": [
            "Среднее значение IBU: 44.27618621464642\n",
            "Дисперсия IBU: 1844.3166280448795\n"
          ]
        }
      ]
    },
    {
      "cell_type": "markdown",
      "source": [
        "# Удаляем выбросы"
      ],
      "metadata": {
        "id": "xCL68c8VUPai"
      }
    },
    {
      "cell_type": "markdown",
      "source": [
        "\n",
        "\n",
        "---\n",
        "\n"
      ],
      "metadata": {
        "id": "LcmAeXa2nWqd"
      }
    },
    {
      "cell_type": "code",
      "source": [
        "data_df = data_df[(data_df['IBU'] <= 200) &\n",
        "                  (data_df['ABV'] <= 10) &\n",
        "                  (data_df['FG'] <= 5) &\n",
        "                  (data_df['Size(L)'] <= 2000) &\n",
        "                  (data_df['BoilSize'] <= 1000) &\n",
        "                  (data_df['BoilTime'] <= 125) &\n",
        "                  (data_df['BoilGravity'].le(15) | data_df['BoilGravity'].isnull()) &\n",
        "                  (data_df['MashThickness'].le(9) | data_df['MashThickness'].isnull())]"
      ],
      "metadata": {
        "id": "nb_K703TxGgX"
      },
      "execution_count": 32,
      "outputs": []
    },
    {
      "cell_type": "markdown",
      "source": [
        "\n",
        "\n",
        "----------------\n",
        "\n"
      ],
      "metadata": {
        "id": "d6mBJ94mnZJe"
      }
    },
    {
      "cell_type": "markdown",
      "source": [
        "**анализируем разброс данных**"
      ],
      "metadata": {
        "id": "yA4XsXbQxfHe"
      }
    },
    {
      "cell_type": "code",
      "source": [
        "# Замените 'IBU' на имя вашего столбца\n",
        "ibu_values = data_df['MashThickness']\n",
        "\n",
        "# Определите интервалы\n",
        "intervals = [0, 9, 15, float('inf')]  # Диапазоны: 0-100, 100-500, и выше 500\n",
        "\n",
        "# Создайте гистограмму для подсчета частоты значений в каждом диапазоне\n",
        "hist, bin_edges = np.histogram(ibu_values, bins=intervals)\n",
        "\n",
        "# Выведите результаты\n",
        "for i in range(len(hist)):\n",
        "    if i == len(hist) - 1:\n",
        "        print(f'Значения IBU выше {intervals[i]}: {hist[i]}')\n",
        "    else:\n",
        "        print(f'Значения IBU в диапазоне {intervals[i]}-{intervals[i + 1]}: {hist[i]}')\n"
      ],
      "metadata": {
        "colab": {
          "base_uri": "https://localhost:8080/"
        },
        "id": "FkN3I5cdZ5u_",
        "outputId": "7c5d7026-f196-41bf-edd9-ad1886eb02a0"
      },
      "execution_count": 33,
      "outputs": [
        {
          "output_type": "stream",
          "name": "stdout",
          "text": [
            "Значения IBU в диапазоне 0-9: 41392\n",
            "Значения IBU в диапазоне 9-15: 12\n",
            "Значения IBU выше 15: 0\n"
          ]
        }
      ]
    },
    {
      "cell_type": "markdown",
      "source": [
        "\n",
        "\n",
        "---\n",
        "\n",
        "\n",
        "\n",
        "---\n",
        "\n"
      ],
      "metadata": {
        "id": "emFsn2DuyVJk"
      }
    },
    {
      "cell_type": "code",
      "source": [
        "# Удаляем строки с незаполнеными Style и Name (их не много так что не вдумывайся в смысл)\n",
        "data_df = data_df.dropna(subset=['Style', 'Name'])"
      ],
      "metadata": {
        "id": "cnVwvj9FXwyr"
      },
      "execution_count": 34,
      "outputs": []
    },
    {
      "cell_type": "markdown",
      "source": [
        "## Заполняем пустые значения с помощью импьютирования"
      ],
      "metadata": {
        "id": "Fq_E7nqdn-Xr"
      }
    },
    {
      "cell_type": "code",
      "source": [
        "# Список столбцов, которые вы хотите импьютровать\n",
        "columns_to_impute = ['MashThickness', 'PitchRate', 'PrimaryTemp', 'BoilGravity']  # добавьте другие столбцы при необходимости\n",
        "\n",
        "# Создание объекта IterativeImputer\n",
        "mice_imputer = IterativeImputer()\n",
        "\n",
        "# Применение импьютации к выбранным столбцам\n",
        "data_df[columns_to_impute] = mice_imputer.fit_transform(data_df[columns_to_impute])\n",
        "\n",
        "# Проверка эффективности импьютации\n",
        "for column in columns_to_impute:\n",
        "    original_mean = data_df[column].mean()\n",
        "    original_median = data_df[column].median()\n",
        "\n",
        "    imputed_mean = data_df[column].mean()\n",
        "    imputed_median = np.median(data_df[column])\n",
        "\n",
        "    mse = mean_squared_error(data_df[column], data_df[column])\n",
        "\n",
        "    print(f\"Статистика для '{column}' до импьютации:\")\n",
        "    print(f\"Среднее значение: {original_mean}\")\n",
        "    print(f\"Медиана: {original_median}\\n\")\n",
        "    print(f\"Статистика для '{column}' после импьутации:\")\n",
        "    print(f\"Среднее значение: {imputed_mean}\")\n",
        "    print(f\"Медиана: {imputed_median}\\n\")\n",
        "    print(f\"Среднеквадратичная ошибка (MSE) после импьютации: {mse}\\n\")"
      ],
      "metadata": {
        "colab": {
          "base_uri": "https://localhost:8080/"
        },
        "id": "C1n5CVkEX46q",
        "outputId": "f6c6f482-85a0-4e6d-dbaf-4dc56e1f2ea3"
      },
      "execution_count": 35,
      "outputs": [
        {
          "output_type": "stream",
          "name": "stdout",
          "text": [
            "Статистика для 'MashThickness' до импьютации:\n",
            "Среднее значение: 2.060712501649549\n",
            "Медиана: 2.0481188573432707\n",
            "\n",
            "Статистика для 'MashThickness' после импьутации:\n",
            "Среднее значение: 2.060712501649549\n",
            "Медиана: 2.0481188573432707\n",
            "\n",
            "Среднеквадратичная ошибка (MSE) после импьютации: 0.0\n",
            "\n",
            "Статистика для 'PitchRate' до импьютации:\n",
            "Среднее значение: 0.736994698170454\n",
            "Медиана: 0.7368876828305854\n",
            "\n",
            "Статистика для 'PitchRate' после импьутации:\n",
            "Среднее значение: 0.736994698170454\n",
            "Медиана: 0.7368876828305854\n",
            "\n",
            "Среднеквадратичная ошибка (MSE) после импьютации: 0.0\n",
            "\n",
            "Статистика для 'PrimaryTemp' до импьютации:\n",
            "Среднее значение: 19.138235493528185\n",
            "Медиана: 19.14487797520406\n",
            "\n",
            "Статистика для 'PrimaryTemp' после импьутации:\n",
            "Среднее значение: 19.138235493528185\n",
            "Медиана: 19.14487797520406\n",
            "\n",
            "Среднеквадратичная ошибка (MSE) после импьютации: 0.0\n",
            "\n",
            "Статистика для 'BoilGravity' до импьютации:\n",
            "Среднее значение: 1.2511090306084425\n",
            "Медиана: 1.047\n",
            "\n",
            "Статистика для 'BoilGravity' после импьутации:\n",
            "Среднее значение: 1.2511090306084425\n",
            "Медиана: 1.047\n",
            "\n",
            "Среднеквадратичная ошибка (MSE) после импьютации: 0.0\n",
            "\n"
          ]
        }
      ]
    },
    {
      "cell_type": "markdown",
      "source": [
        "\n",
        "\n",
        "---\n",
        "\n",
        "\n",
        "\n",
        "---\n",
        "\n"
      ],
      "metadata": {
        "id": "1EhpmgO-oJPK"
      }
    },
    {
      "cell_type": "code",
      "source": [
        "missing_values = data_df.isnull().sum()\n",
        "print(missing_values)"
      ],
      "metadata": {
        "colab": {
          "base_uri": "https://localhost:8080/"
        },
        "id": "zNZKBnojUBgp",
        "outputId": "2b2762a1-b2a0-40d6-d066-7f55531551d7"
      },
      "execution_count": 36,
      "outputs": [
        {
          "output_type": "stream",
          "name": "stdout",
          "text": [
            "BeerID               0\n",
            "Name                 0\n",
            "URL                  0\n",
            "Style                0\n",
            "StyleID              0\n",
            "Size(L)              0\n",
            "OG                   0\n",
            "FG                   0\n",
            "ABV                  0\n",
            "IBU                  0\n",
            "Color                0\n",
            "BoilSize             0\n",
            "BoilTime             0\n",
            "BoilGravity          0\n",
            "Efficiency           0\n",
            "MashThickness        0\n",
            "SugarScale           0\n",
            "BrewMethod           0\n",
            "PitchRate            0\n",
            "PrimaryTemp          0\n",
            "PrimingMethod    62878\n",
            "PrimingAmount    64769\n",
            "UserId           47197\n",
            "dtype: int64\n"
          ]
        }
      ]
    },
    {
      "cell_type": "markdown",
      "source": [
        "\n",
        "\n",
        "---\n",
        "\n"
      ],
      "metadata": {
        "id": "-4b-d_7KBTTD"
      }
    },
    {
      "cell_type": "code",
      "source": [
        "# посмотрим корреляцию столбцов с числовыми значениями\n",
        "print(data_df.shape)\n",
        "sns.heatmap(data_df.corr(), cmap='viridis', yticklabels=True)"
      ],
      "metadata": {
        "id": "KqdQPndTDTYO",
        "colab": {
          "base_uri": "https://localhost:8080/",
          "height": 615
        },
        "outputId": "0f571139-7da8-4492-881f-a9b670691915"
      },
      "execution_count": 37,
      "outputs": [
        {
          "output_type": "stream",
          "name": "stdout",
          "text": [
            "(69372, 23)\n"
          ]
        },
        {
          "output_type": "stream",
          "name": "stderr",
          "text": [
            "<ipython-input-37-365ad99b258c>:3: FutureWarning: The default value of numeric_only in DataFrame.corr is deprecated. In a future version, it will default to False. Select only valid columns or specify the value of numeric_only to silence this warning.\n",
            "  sns.heatmap(data_df.corr(), cmap='viridis', yticklabels=True)\n"
          ]
        },
        {
          "output_type": "execute_result",
          "data": {
            "text/plain": [
              "<Axes: >"
            ]
          },
          "metadata": {},
          "execution_count": 37
        },
        {
          "output_type": "display_data",
          "data": {
            "text/plain": [
              "<Figure size 640x480 with 2 Axes>"
            ],
            "image/png": "[encoded data removed]"
          },
          "metadata": {}
        }
      ]
    },
    {
      "cell_type": "markdown",
      "source": [
        "**Encoding**\n",
        "\n",
        "\n",
        "---\n",
        "\n",
        "\n"
      ],
      "metadata": {
        "id": "bUHQ4FNlp_o0"
      }
    },
    {
      "cell_type": "code",
      "source": [
        "le = LabelEncoder()\n",
        "text_data_features = ['SugarScale', 'BrewMethod']\n",
        "l3 = []; l4 = [];\n",
        "print('Label Encoder Transformation')\n",
        "for i in tqdm(text_data_features):\n",
        "    data_df[i] = le.fit_transform(data_df[i])\n",
        "    l3.append(list(data_df[i].unique())); l4.append(list(le.inverse_transform(data_df[i].unique())))\n",
        "    print(i,' : ',data_df[i].unique(),' = ',le.inverse_transform(data_df[i].unique()))"
      ],
      "metadata": {
        "colab": {
          "base_uri": "https://localhost:8080/"
        },
        "id": "z_GscfESpGa3",
        "outputId": "07edda49-fb1c-4526-8978-9d35486cebda"
      },
      "execution_count": 38,
      "outputs": [
        {
          "output_type": "stream",
          "name": "stdout",
          "text": [
            "Label Encoder Transformation\n"
          ]
        },
        {
          "output_type": "stream",
          "name": "stderr",
          "text": [
            "100%|██████████| 2/2 [00:00<00:00, 29.05it/s]"
          ]
        },
        {
          "output_type": "stream",
          "name": "stdout",
          "text": [
            "SugarScale  :  [1 0]  =  ['Specific Gravity' 'Plato']\n",
            "BrewMethod  :  [0 3 1 2]  =  ['All Grain' 'extract' 'BIAB' 'Partial Mash']\n"
          ]
        },
        {
          "output_type": "stream",
          "name": "stderr",
          "text": [
            "\n"
          ]
        }
      ]
    },
    {
      "cell_type": "markdown",
      "source": [
        "**Нормализация числовых значений (кроме закодированых)**\n",
        "\n",
        "---\n",
        "\n"
      ],
      "metadata": {
        "id": "dw8G_7HNqCU8"
      }
    },
    {
      "cell_type": "code",
      "source": [
        "# Ваши данные и столбцы для нормализации\n",
        "columns_to_normalize = ['Size(L)', 'OG', 'FG', 'ABV', 'IBU', 'Color', 'BoilSize', 'BoilTime', 'BoilGravity', 'Efficiency', 'MashThickness', 'PitchRate', 'PrimaryTemp']\n",
        "\n",
        "# Получите минимальные и максимальные значения для каждого столбца до нормализации\n",
        "min_values_before = data_df[columns_to_normalize].min()\n",
        "max_values_before = data_df[columns_to_normalize].max()\n",
        "\n",
        "print(\"Минимальные значения до нормализации:\")\n",
        "print(min_values_before)\n",
        "\n",
        "print(\"Максимальные значения до нормализации:\")\n",
        "print(max_values_before)"
      ],
      "metadata": {
        "colab": {
          "base_uri": "https://localhost:8080/"
        },
        "id": "SRIerrGPpcEW",
        "outputId": "70131689-1816-4088-da4a-a85eeb1db25f"
      },
      "execution_count": 39,
      "outputs": [
        {
          "output_type": "stream",
          "name": "stdout",
          "text": [
            "Минимальные значения до нормализации:\n",
            "Size(L)           1.000000\n",
            "OG                1.000000\n",
            "FG                0.425441\n",
            "ABV               0.000000\n",
            "IBU               0.000000\n",
            "Color             0.000000\n",
            "BoilSize          1.000000\n",
            "BoilTime          0.000000\n",
            "BoilGravity       0.000000\n",
            "Efficiency        0.000000\n",
            "MashThickness     0.000000\n",
            "PitchRate        -1.288560\n",
            "PrimaryTemp     -17.780000\n",
            "dtype: float64\n",
            "Максимальные значения до нормализации:\n",
            "Size(L)          1400.00000\n",
            "OG                 21.63110\n",
            "FG                  4.99375\n",
            "ABV                10.00000\n",
            "IBU               200.00000\n",
            "Color             186.00000\n",
            "BoilSize         1000.00000\n",
            "BoilTime          125.00000\n",
            "BoilGravity        15.00000\n",
            "Efficiency        100.00000\n",
            "MashThickness       9.00000\n",
            "PitchRate           2.00000\n",
            "PrimaryTemp       114.00000\n",
            "dtype: float64\n"
          ]
        }
      ]
    },
    {
      "cell_type": "code",
      "source": [
        "data_df.info()"
      ],
      "metadata": {
        "id": "jVkHvaYtDTqO",
        "colab": {
          "base_uri": "https://localhost:8080/"
        },
        "outputId": "704ead40-8430-47b9-feb4-4fbe22d1f24e"
      },
      "execution_count": 40,
      "outputs": [
        {
          "output_type": "stream",
          "name": "stdout",
          "text": [
            "<class 'pandas.core.frame.DataFrame'>\n",
            "Int64Index: 69372 entries, 0 to 73860\n",
            "Data columns (total 23 columns):\n",
            " #   Column         Non-Null Count  Dtype  \n",
            "---  ------         --------------  -----  \n",
            " 0   BeerID         69372 non-null  int64  \n",
            " 1   Name           69372 non-null  object \n",
            " 2   URL            69372 non-null  object \n",
            " 3   Style          69372 non-null  object \n",
            " 4   StyleID        69372 non-null  int64  \n",
            " 5   Size(L)        69372 non-null  float64\n",
            " 6   OG             69372 non-null  float64\n",
            " 7   FG             69372 non-null  float64\n",
            " 8   ABV            69372 non-null  float64\n",
            " 9   IBU            69372 non-null  float64\n",
            " 10  Color          69372 non-null  float64\n",
            " 11  BoilSize       69372 non-null  float64\n",
            " 12  BoilTime       69372 non-null  int64  \n",
            " 13  BoilGravity    69372 non-null  float64\n",
            " 14  Efficiency     69372 non-null  float64\n",
            " 15  MashThickness  69372 non-null  float64\n",
            " 16  SugarScale     69372 non-null  int64  \n",
            " 17  BrewMethod     69372 non-null  int64  \n",
            " 18  PitchRate      69372 non-null  float64\n",
            " 19  PrimaryTemp    69372 non-null  float64\n",
            " 20  PrimingMethod  6494 non-null   object \n",
            " 21  PrimingAmount  4603 non-null   object \n",
            " 22  UserId         22175 non-null  float64\n",
            "dtypes: float64(13), int64(5), object(5)\n",
            "memory usage: 12.7+ MB\n"
          ]
        }
      ]
    }
  ]
}